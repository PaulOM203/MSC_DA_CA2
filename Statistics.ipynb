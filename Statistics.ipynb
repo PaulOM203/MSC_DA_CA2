{
 "cells": [
  {
   "cell_type": "code",
   "execution_count": 1,
   "id": "acbc1242",
   "metadata": {},
   "outputs": [
    {
     "name": "stdout",
     "output_type": "stream",
     "text": [
      "Defaulting to user installation because normal site-packages is not writeable\n",
      "Requirement already satisfied: statsmodels in c:\\programdata\\anaconda3\\lib\\site-packages (0.13.2)\n",
      "Requirement already satisfied: numpy>=1.17 in c:\\programdata\\anaconda3\\lib\\site-packages (from statsmodels) (1.21.5)\n",
      "Requirement already satisfied: scipy>=1.3 in c:\\programdata\\anaconda3\\lib\\site-packages (from statsmodels) (1.7.3)\n",
      "Requirement already satisfied: pandas>=0.25 in c:\\programdata\\anaconda3\\lib\\site-packages (from statsmodels) (1.4.2)\n",
      "Requirement already satisfied: patsy>=0.5.2 in c:\\programdata\\anaconda3\\lib\\site-packages (from statsmodels) (0.5.2)\n",
      "Requirement already satisfied: packaging>=21.3 in c:\\programdata\\anaconda3\\lib\\site-packages (from statsmodels) (21.3)\n",
      "Requirement already satisfied: pyparsing!=3.0.5,>=2.0.2 in c:\\programdata\\anaconda3\\lib\\site-packages (from packaging>=21.3->statsmodels) (3.0.4)\n",
      "Requirement already satisfied: pytz>=2020.1 in c:\\programdata\\anaconda3\\lib\\site-packages (from pandas>=0.25->statsmodels) (2021.3)\n",
      "Requirement already satisfied: python-dateutil>=2.8.1 in c:\\programdata\\anaconda3\\lib\\site-packages (from pandas>=0.25->statsmodels) (2.8.2)\n",
      "Requirement already satisfied: six in c:\\programdata\\anaconda3\\lib\\site-packages (from patsy>=0.5.2->statsmodels) (1.16.0)\n",
      "Note: you may need to restart the kernel to use updated packages.\n"
     ]
    }
   ],
   "source": [
    "pip install statsmodels"
   ]
  },
  {
   "cell_type": "code",
   "execution_count": 2,
   "id": "34a3bc96",
   "metadata": {},
   "outputs": [
    {
     "name": "stdout",
     "output_type": "stream",
     "text": [
      "Defaulting to user installation because normal site-packages is not writeable\n",
      "Requirement already satisfied: pycountry in c:\\programdata\\anaconda3\\lib\\site-packages (22.3.5)\n",
      "Requirement already satisfied: setuptools in c:\\programdata\\anaconda3\\lib\\site-packages (from pycountry) (61.2.0)\n",
      "Note: you may need to restart the kernel to use updated packages.\n"
     ]
    }
   ],
   "source": [
    "pip install pycountry"
   ]
  },
  {
   "cell_type": "code",
   "execution_count": 3,
   "id": "9d9ddbd0",
   "metadata": {},
   "outputs": [
    {
     "name": "stdout",
     "output_type": "stream",
     "text": [
      "Defaulting to user installation because normal site-packages is not writeable\n",
      "Requirement already satisfied: pycountry-convert in c:\\users\\paul o' mahony\\appdata\\roaming\\python\\python39\\site-packages (0.7.2)\n",
      "Requirement already satisfied: pytest>=3.4.0 in c:\\programdata\\anaconda3\\lib\\site-packages (from pycountry-convert) (7.1.1)\n",
      "Requirement already satisfied: repoze.lru>=0.7 in c:\\users\\paul o' mahony\\appdata\\roaming\\python\\python39\\site-packages (from pycountry-convert) (0.7)\n",
      "Requirement already satisfied: pytest-cov>=2.5.1 in c:\\users\\paul o' mahony\\appdata\\roaming\\python\\python39\\site-packages (from pycountry-convert) (4.0.0)\n",
      "Requirement already satisfied: pprintpp>=0.3.0 in c:\\users\\paul o' mahony\\appdata\\roaming\\python\\python39\\site-packages (from pycountry-convert) (0.4.0)\n",
      "Requirement already satisfied: wheel>=0.30.0 in c:\\programdata\\anaconda3\\lib\\site-packages (from pycountry-convert) (0.37.1)\n",
      "Requirement already satisfied: pycountry>=16.11.27.1 in c:\\programdata\\anaconda3\\lib\\site-packages (from pycountry-convert) (22.3.5)\n",
      "Requirement already satisfied: pytest-mock>=1.6.3 in c:\\users\\paul o' mahony\\appdata\\roaming\\python\\python39\\site-packages (from pycountry-convert) (3.10.0)\n",
      "Requirement already satisfied: setuptools in c:\\programdata\\anaconda3\\lib\\site-packages (from pycountry>=16.11.27.1->pycountry-convert) (61.2.0)\n",
      "Requirement already satisfied: attrs>=19.2.0 in c:\\programdata\\anaconda3\\lib\\site-packages (from pytest>=3.4.0->pycountry-convert) (21.4.0)\n",
      "Requirement already satisfied: iniconfig in c:\\programdata\\anaconda3\\lib\\site-packages (from pytest>=3.4.0->pycountry-convert) (1.1.1)\n",
      "Requirement already satisfied: packaging in c:\\programdata\\anaconda3\\lib\\site-packages (from pytest>=3.4.0->pycountry-convert) (21.3)\n",
      "Requirement already satisfied: pluggy<2.0,>=0.12 in c:\\programdata\\anaconda3\\lib\\site-packages (from pytest>=3.4.0->pycountry-convert) (1.0.0)\n",
      "Requirement already satisfied: py>=1.8.2 in c:\\programdata\\anaconda3\\lib\\site-packages (from pytest>=3.4.0->pycountry-convert) (1.11.0)\n",
      "Requirement already satisfied: tomli>=1.0.0 in c:\\programdata\\anaconda3\\lib\\site-packages (from pytest>=3.4.0->pycountry-convert) (1.2.2)\n",
      "Requirement already satisfied: atomicwrites>=1.0 in c:\\programdata\\anaconda3\\lib\\site-packages (from pytest>=3.4.0->pycountry-convert) (1.4.0)\n",
      "Requirement already satisfied: colorama in c:\\programdata\\anaconda3\\lib\\site-packages (from pytest>=3.4.0->pycountry-convert) (0.4.4)\n",
      "Requirement already satisfied: coverage[toml]>=5.2.1 in c:\\users\\paul o' mahony\\appdata\\roaming\\python\\python39\\site-packages (from pytest-cov>=2.5.1->pycountry-convert) (7.0.4)\n",
      "Requirement already satisfied: pyparsing!=3.0.5,>=2.0.2 in c:\\programdata\\anaconda3\\lib\\site-packages (from packaging->pytest>=3.4.0->pycountry-convert) (3.0.4)\n",
      "Note: you may need to restart the kernel to use updated packages.\n"
     ]
    }
   ],
   "source": [
    "pip install pycountry-convert"
   ]
  },
  {
   "cell_type": "code",
   "execution_count": 4,
   "id": "ed15bb06",
   "metadata": {},
   "outputs": [],
   "source": [
    "import glob\n",
    "import pandas as pd\n",
    "import numpy as np\n",
    "import seaborn as sns\n",
    "import pycountry_convert as pc\n",
    "import matplotlib\n",
    "from matplotlib import pyplot as plt\n",
    "from matplotlib.dates import DateFormatter\n",
    "from pathlib import Path\n",
    "\n",
    "import scipy\n",
    "from scipy.stats import kstest\n",
    "from scipy.stats import shapiro\n",
    "from scipy.stats import lognorm\n",
    "from scipy.stats import ranksums\n",
    "from scipy.stats import f_oneway\n",
    "from scipy.stats import tmean\n",
    "from scipy.stats import tstd\n",
    "\n",
    "import statsmodels.api as sm\n",
    "from statsmodels.formula.api import ols\n",
    "from statsmodels.stats.anova import anova_lm"
   ]
  },
  {
   "cell_type": "code",
   "execution_count": 5,
   "id": "5759a167",
   "metadata": {},
   "outputs": [],
   "source": [
    "quantity_Data = pd.read_csv(\"quantity_Data.csv\")\n",
    "value_Data = pd.read_csv(\"value_Data.csv\")\n",
    "land_Data = pd.read_csv(\"land_Data.csv\")     ## importing datasets"
   ]
  },
  {
   "cell_type": "code",
   "execution_count": 6,
   "id": "dc377836",
   "metadata": {},
   "outputs": [
    {
     "data": {
      "text/html": [
       "<div>\n",
       "<style scoped>\n",
       "    .dataframe tbody tr th:only-of-type {\n",
       "        vertical-align: middle;\n",
       "    }\n",
       "\n",
       "    .dataframe tbody tr th {\n",
       "        vertical-align: top;\n",
       "    }\n",
       "\n",
       "    .dataframe thead th {\n",
       "        text-align: right;\n",
       "    }\n",
       "</style>\n",
       "<table border=\"1\" class=\"dataframe\">\n",
       "  <thead>\n",
       "    <tr style=\"text-align: right;\">\n",
       "      <th></th>\n",
       "      <th>Unnamed: 0</th>\n",
       "      <th>Domain</th>\n",
       "      <th>Area</th>\n",
       "      <th>Element</th>\n",
       "      <th>Item</th>\n",
       "      <th>Year</th>\n",
       "      <th>Unit</th>\n",
       "      <th>Value</th>\n",
       "      <th>Flag Description</th>\n",
       "      <th>Country Code</th>\n",
       "    </tr>\n",
       "  </thead>\n",
       "  <tbody>\n",
       "    <tr>\n",
       "      <th>0</th>\n",
       "      <td>192</td>\n",
       "      <td>Crops and livestock products</td>\n",
       "      <td>Croatia</td>\n",
       "      <td>Import Quantity</td>\n",
       "      <td>Cattle</td>\n",
       "      <td>2006</td>\n",
       "      <td>Head</td>\n",
       "      <td>162288</td>\n",
       "      <td>Official figure</td>\n",
       "      <td>HR</td>\n",
       "    </tr>\n",
       "    <tr>\n",
       "      <th>1</th>\n",
       "      <td>193</td>\n",
       "      <td>Crops and livestock products</td>\n",
       "      <td>Croatia</td>\n",
       "      <td>Import Quantity</td>\n",
       "      <td>Cattle</td>\n",
       "      <td>2007</td>\n",
       "      <td>Head</td>\n",
       "      <td>144750</td>\n",
       "      <td>Official figure</td>\n",
       "      <td>HR</td>\n",
       "    </tr>\n",
       "    <tr>\n",
       "      <th>2</th>\n",
       "      <td>194</td>\n",
       "      <td>Crops and livestock products</td>\n",
       "      <td>Croatia</td>\n",
       "      <td>Import Quantity</td>\n",
       "      <td>Cattle</td>\n",
       "      <td>2008</td>\n",
       "      <td>Head</td>\n",
       "      <td>155515</td>\n",
       "      <td>Official figure</td>\n",
       "      <td>HR</td>\n",
       "    </tr>\n",
       "    <tr>\n",
       "      <th>3</th>\n",
       "      <td>195</td>\n",
       "      <td>Crops and livestock products</td>\n",
       "      <td>Croatia</td>\n",
       "      <td>Import Quantity</td>\n",
       "      <td>Cattle</td>\n",
       "      <td>2009</td>\n",
       "      <td>Head</td>\n",
       "      <td>138672</td>\n",
       "      <td>Official figure</td>\n",
       "      <td>HR</td>\n",
       "    </tr>\n",
       "    <tr>\n",
       "      <th>4</th>\n",
       "      <td>196</td>\n",
       "      <td>Crops and livestock products</td>\n",
       "      <td>Croatia</td>\n",
       "      <td>Import Quantity</td>\n",
       "      <td>Cattle</td>\n",
       "      <td>2010</td>\n",
       "      <td>Head</td>\n",
       "      <td>140123</td>\n",
       "      <td>Official figure</td>\n",
       "      <td>HR</td>\n",
       "    </tr>\n",
       "  </tbody>\n",
       "</table>\n",
       "</div>"
      ],
      "text/plain": [
       "   Unnamed: 0                        Domain     Area          Element    Item  \\\n",
       "0         192  Crops and livestock products  Croatia  Import Quantity  Cattle   \n",
       "1         193  Crops and livestock products  Croatia  Import Quantity  Cattle   \n",
       "2         194  Crops and livestock products  Croatia  Import Quantity  Cattle   \n",
       "3         195  Crops and livestock products  Croatia  Import Quantity  Cattle   \n",
       "4         196  Crops and livestock products  Croatia  Import Quantity  Cattle   \n",
       "\n",
       "   Year  Unit   Value Flag Description Country Code  \n",
       "0  2006  Head  162288  Official figure           HR  \n",
       "1  2007  Head  144750  Official figure           HR  \n",
       "2  2008  Head  155515  Official figure           HR  \n",
       "3  2009  Head  138672  Official figure           HR  \n",
       "4  2010  Head  140123  Official figure           HR  "
      ]
     },
     "execution_count": 6,
     "metadata": {},
     "output_type": "execute_result"
    }
   ],
   "source": [
    "agriculture_Data = pd.concat([quantity_Data, value_Data], axis=\"rows\")\n",
    "agriculture_Data.to_csv(\"agriculture_Data.csv\")\n",
    "agriculture_Data.head()"
   ]
  },
  {
   "cell_type": "code",
   "execution_count": 7,
   "id": "6fe9a53d",
   "metadata": {},
   "outputs": [
    {
     "data": {
      "text/html": [
       "<div>\n",
       "<style scoped>\n",
       "    .dataframe tbody tr th:only-of-type {\n",
       "        vertical-align: middle;\n",
       "    }\n",
       "\n",
       "    .dataframe tbody tr th {\n",
       "        vertical-align: top;\n",
       "    }\n",
       "\n",
       "    .dataframe thead th {\n",
       "        text-align: right;\n",
       "    }\n",
       "</style>\n",
       "<table border=\"1\" class=\"dataframe\">\n",
       "  <thead>\n",
       "    <tr style=\"text-align: right;\">\n",
       "      <th></th>\n",
       "      <th>Unnamed: 0</th>\n",
       "      <th>DATAFLOW</th>\n",
       "      <th>LAST UPDATE</th>\n",
       "      <th>freq</th>\n",
       "      <th>crops</th>\n",
       "      <th>animal</th>\n",
       "      <th>farmtype</th>\n",
       "      <th>so_eur</th>\n",
       "      <th>unit</th>\n",
       "      <th>agrarea</th>\n",
       "      <th>country</th>\n",
       "      <th>geo</th>\n",
       "      <th>TIME_PERIOD</th>\n",
       "      <th>OBS_VALUE</th>\n",
       "    </tr>\n",
       "  </thead>\n",
       "  <tbody>\n",
       "    <tr>\n",
       "      <th>0</th>\n",
       "      <td>6</td>\n",
       "      <td>ESTAT:EF_LUS_MAIN(1.0)</td>\n",
       "      <td>06/12/2022 11:00</td>\n",
       "      <td>A</td>\n",
       "      <td>UAA</td>\n",
       "      <td>Cattle</td>\n",
       "      <td>FT46_SO</td>\n",
       "      <td>TOTAL</td>\n",
       "      <td>HA</td>\n",
       "      <td>TOTAL</td>\n",
       "      <td>Denmark</td>\n",
       "      <td>DK</td>\n",
       "      <td>2020</td>\n",
       "      <td>110060</td>\n",
       "    </tr>\n",
       "    <tr>\n",
       "      <th>1</th>\n",
       "      <td>10</td>\n",
       "      <td>ESTAT:EF_LUS_MAIN(1.0)</td>\n",
       "      <td>06/12/2022 11:00</td>\n",
       "      <td>A</td>\n",
       "      <td>UAA</td>\n",
       "      <td>Cattle</td>\n",
       "      <td>FT46_SO</td>\n",
       "      <td>TOTAL</td>\n",
       "      <td>HA</td>\n",
       "      <td>TOTAL</td>\n",
       "      <td>Finland</td>\n",
       "      <td>FI</td>\n",
       "      <td>2020</td>\n",
       "      <td>227860</td>\n",
       "    </tr>\n",
       "    <tr>\n",
       "      <th>2</th>\n",
       "      <td>12</td>\n",
       "      <td>ESTAT:EF_LUS_MAIN(1.0)</td>\n",
       "      <td>06/12/2022 11:00</td>\n",
       "      <td>A</td>\n",
       "      <td>UAA</td>\n",
       "      <td>Cattle</td>\n",
       "      <td>FT46_SO</td>\n",
       "      <td>TOTAL</td>\n",
       "      <td>HA</td>\n",
       "      <td>TOTAL</td>\n",
       "      <td>Croatia</td>\n",
       "      <td>HR</td>\n",
       "      <td>2020</td>\n",
       "      <td>81570</td>\n",
       "    </tr>\n",
       "    <tr>\n",
       "      <th>3</th>\n",
       "      <td>14</td>\n",
       "      <td>ESTAT:EF_LUS_MAIN(1.0)</td>\n",
       "      <td>06/12/2022 11:00</td>\n",
       "      <td>A</td>\n",
       "      <td>UAA</td>\n",
       "      <td>Cattle</td>\n",
       "      <td>FT46_SO</td>\n",
       "      <td>TOTAL</td>\n",
       "      <td>HA</td>\n",
       "      <td>TOTAL</td>\n",
       "      <td>Ireland</td>\n",
       "      <td>IE</td>\n",
       "      <td>2020</td>\n",
       "      <td>1999910</td>\n",
       "    </tr>\n",
       "    <tr>\n",
       "      <th>4</th>\n",
       "      <td>33</td>\n",
       "      <td>ESTAT:EF_LUS_MAIN(1.0)</td>\n",
       "      <td>06/12/2022 11:00</td>\n",
       "      <td>A</td>\n",
       "      <td>UAA</td>\n",
       "      <td>Sheep</td>\n",
       "      <td>FT48_SO</td>\n",
       "      <td>TOTAL</td>\n",
       "      <td>HA</td>\n",
       "      <td>TOTAL</td>\n",
       "      <td>Denmark</td>\n",
       "      <td>DK</td>\n",
       "      <td>2020</td>\n",
       "      <td>27920</td>\n",
       "    </tr>\n",
       "  </tbody>\n",
       "</table>\n",
       "</div>"
      ],
      "text/plain": [
       "   Unnamed: 0                DATAFLOW       LAST UPDATE freq crops  animal  \\\n",
       "0           6  ESTAT:EF_LUS_MAIN(1.0)  06/12/2022 11:00    A   UAA  Cattle   \n",
       "1          10  ESTAT:EF_LUS_MAIN(1.0)  06/12/2022 11:00    A   UAA  Cattle   \n",
       "2          12  ESTAT:EF_LUS_MAIN(1.0)  06/12/2022 11:00    A   UAA  Cattle   \n",
       "3          14  ESTAT:EF_LUS_MAIN(1.0)  06/12/2022 11:00    A   UAA  Cattle   \n",
       "4          33  ESTAT:EF_LUS_MAIN(1.0)  06/12/2022 11:00    A   UAA   Sheep   \n",
       "\n",
       "  farmtype so_eur unit agrarea  country geo  TIME_PERIOD  OBS_VALUE  \n",
       "0  FT46_SO  TOTAL   HA   TOTAL  Denmark  DK         2020     110060  \n",
       "1  FT46_SO  TOTAL   HA   TOTAL  Finland  FI         2020     227860  \n",
       "2  FT46_SO  TOTAL   HA   TOTAL  Croatia  HR         2020      81570  \n",
       "3  FT46_SO  TOTAL   HA   TOTAL  Ireland  IE         2020    1999910  \n",
       "4  FT48_SO  TOTAL   HA   TOTAL  Denmark  DK         2020      27920  "
      ]
     },
     "execution_count": 7,
     "metadata": {},
     "output_type": "execute_result"
    }
   ],
   "source": [
    "land_Data.head()"
   ]
  },
  {
   "cell_type": "code",
   "execution_count": 8,
   "id": "dcde50ec",
   "metadata": {},
   "outputs": [],
   "source": [
    "area_col = agriculture_Data.keys()[2]\n",
    "ag_IE = agriculture_Data.loc[agriculture_Data[area_col] == 'Ireland']   ##extracting Ireland's data only \n",
    "\n",
    "agriculture_Data = agriculture_Data.iloc[:,5:]  ##dropping non-numeric columns before Years\n",
    "ag_IE = ag_IE.iloc[:,5:]"
   ]
  },
  {
   "cell_type": "code",
   "execution_count": 9,
   "id": "ab4fc580",
   "metadata": {},
   "outputs": [
    {
     "data": {
      "text/plain": [
       "Index(['Year', 'Unit', 'Value', 'Flag Description', 'Country Code'], dtype='object')"
      ]
     },
     "execution_count": 9,
     "metadata": {},
     "output_type": "execute_result"
    }
   ],
   "source": [
    "agriculture_Data.columns"
   ]
  },
  {
   "cell_type": "code",
   "execution_count": 10,
   "id": "7cc565e0",
   "metadata": {},
   "outputs": [
    {
     "data": {
      "text/html": [
       "<div>\n",
       "<style scoped>\n",
       "    .dataframe tbody tr th:only-of-type {\n",
       "        vertical-align: middle;\n",
       "    }\n",
       "\n",
       "    .dataframe tbody tr th {\n",
       "        vertical-align: top;\n",
       "    }\n",
       "\n",
       "    .dataframe thead th {\n",
       "        text-align: right;\n",
       "    }\n",
       "</style>\n",
       "<table border=\"1\" class=\"dataframe\">\n",
       "  <thead>\n",
       "    <tr style=\"text-align: right;\">\n",
       "      <th></th>\n",
       "      <th>Year</th>\n",
       "      <th>Unit</th>\n",
       "      <th>Value</th>\n",
       "    </tr>\n",
       "  </thead>\n",
       "  <tbody>\n",
       "    <tr>\n",
       "      <th>0</th>\n",
       "      <td>2006</td>\n",
       "      <td>Head</td>\n",
       "      <td>162288</td>\n",
       "    </tr>\n",
       "    <tr>\n",
       "      <th>1</th>\n",
       "      <td>2007</td>\n",
       "      <td>Head</td>\n",
       "      <td>144750</td>\n",
       "    </tr>\n",
       "    <tr>\n",
       "      <th>2</th>\n",
       "      <td>2008</td>\n",
       "      <td>Head</td>\n",
       "      <td>155515</td>\n",
       "    </tr>\n",
       "    <tr>\n",
       "      <th>3</th>\n",
       "      <td>2009</td>\n",
       "      <td>Head</td>\n",
       "      <td>138672</td>\n",
       "    </tr>\n",
       "    <tr>\n",
       "      <th>4</th>\n",
       "      <td>2010</td>\n",
       "      <td>Head</td>\n",
       "      <td>140123</td>\n",
       "    </tr>\n",
       "  </tbody>\n",
       "</table>\n",
       "</div>"
      ],
      "text/plain": [
       "   Year  Unit   Value\n",
       "0  2006  Head  162288\n",
       "1  2007  Head  144750\n",
       "2  2008  Head  155515\n",
       "3  2009  Head  138672\n",
       "4  2010  Head  140123"
      ]
     },
     "execution_count": 10,
     "metadata": {},
     "output_type": "execute_result"
    }
   ],
   "source": [
    "agriculture_Data = agriculture_Data.drop(columns = ['Flag Description', 'Country Code']) ##dropping surplus columns\n",
    "agriculture_Data.head()"
   ]
  },
  {
   "cell_type": "code",
   "execution_count": 11,
   "id": "2c1cd954",
   "metadata": {},
   "outputs": [
    {
     "data": {
      "text/html": [
       "<div>\n",
       "<style scoped>\n",
       "    .dataframe tbody tr th:only-of-type {\n",
       "        vertical-align: middle;\n",
       "    }\n",
       "\n",
       "    .dataframe tbody tr th {\n",
       "        vertical-align: top;\n",
       "    }\n",
       "\n",
       "    .dataframe thead th {\n",
       "        text-align: right;\n",
       "    }\n",
       "</style>\n",
       "<table border=\"1\" class=\"dataframe\">\n",
       "  <thead>\n",
       "    <tr style=\"text-align: right;\">\n",
       "      <th></th>\n",
       "      <th>Year</th>\n",
       "      <th>Unit</th>\n",
       "      <th>Value</th>\n",
       "    </tr>\n",
       "  </thead>\n",
       "  <tbody>\n",
       "    <tr>\n",
       "      <th>156</th>\n",
       "      <td>2006</td>\n",
       "      <td>Head</td>\n",
       "      <td>372</td>\n",
       "    </tr>\n",
       "    <tr>\n",
       "      <th>157</th>\n",
       "      <td>2007</td>\n",
       "      <td>Head</td>\n",
       "      <td>767</td>\n",
       "    </tr>\n",
       "    <tr>\n",
       "      <th>158</th>\n",
       "      <td>2008</td>\n",
       "      <td>Head</td>\n",
       "      <td>90</td>\n",
       "    </tr>\n",
       "    <tr>\n",
       "      <th>159</th>\n",
       "      <td>2009</td>\n",
       "      <td>Head</td>\n",
       "      <td>38</td>\n",
       "    </tr>\n",
       "    <tr>\n",
       "      <th>160</th>\n",
       "      <td>2010</td>\n",
       "      <td>Head</td>\n",
       "      <td>98</td>\n",
       "    </tr>\n",
       "  </tbody>\n",
       "</table>\n",
       "</div>"
      ],
      "text/plain": [
       "     Year  Unit  Value\n",
       "156  2006  Head    372\n",
       "157  2007  Head    767\n",
       "158  2008  Head     90\n",
       "159  2009  Head     38\n",
       "160  2010  Head     98"
      ]
     },
     "execution_count": 11,
     "metadata": {},
     "output_type": "execute_result"
    }
   ],
   "source": [
    "ag_IE = ag_IE.drop(columns = ['Flag Description', 'Country Code'])\n",
    "ag_IE.head()"
   ]
  },
  {
   "cell_type": "code",
   "execution_count": 12,
   "id": "12e905e5",
   "metadata": {},
   "outputs": [
    {
     "data": {
      "text/plain": [
       "True"
      ]
     },
     "execution_count": 12,
     "metadata": {},
     "output_type": "execute_result"
    }
   ],
   "source": [
    "agriculture_Data.columns.is_unique  ##checking for duplicated column names"
   ]
  },
  {
   "cell_type": "code",
   "execution_count": 13,
   "id": "88a643fa",
   "metadata": {},
   "outputs": [
    {
     "data": {
      "text/plain": [
       "array([False, False, False])"
      ]
     },
     "execution_count": 13,
     "metadata": {},
     "output_type": "execute_result"
    }
   ],
   "source": [
    "agriculture_Data.columns.duplicated()   ##testing the index for duplicate values"
   ]
  },
  {
   "cell_type": "code",
   "execution_count": 14,
   "id": "1ab82708",
   "metadata": {},
   "outputs": [
    {
     "data": {
      "text/html": [
       "<div>\n",
       "<style scoped>\n",
       "    .dataframe tbody tr th:only-of-type {\n",
       "        vertical-align: middle;\n",
       "    }\n",
       "\n",
       "    .dataframe tbody tr th {\n",
       "        vertical-align: top;\n",
       "    }\n",
       "\n",
       "    .dataframe thead th {\n",
       "        text-align: right;\n",
       "    }\n",
       "</style>\n",
       "<table border=\"1\" class=\"dataframe\">\n",
       "  <thead>\n",
       "    <tr style=\"text-align: right;\">\n",
       "      <th></th>\n",
       "      <th>Year</th>\n",
       "      <th>Unit</th>\n",
       "      <th>Value</th>\n",
       "    </tr>\n",
       "  </thead>\n",
       "  <tbody>\n",
       "    <tr>\n",
       "      <th>0</th>\n",
       "      <td>2006</td>\n",
       "      <td>Head</td>\n",
       "      <td>162288</td>\n",
       "    </tr>\n",
       "    <tr>\n",
       "      <th>1</th>\n",
       "      <td>2007</td>\n",
       "      <td>Head</td>\n",
       "      <td>144750</td>\n",
       "    </tr>\n",
       "    <tr>\n",
       "      <th>2</th>\n",
       "      <td>2008</td>\n",
       "      <td>Head</td>\n",
       "      <td>155515</td>\n",
       "    </tr>\n",
       "    <tr>\n",
       "      <th>3</th>\n",
       "      <td>2009</td>\n",
       "      <td>Head</td>\n",
       "      <td>138672</td>\n",
       "    </tr>\n",
       "    <tr>\n",
       "      <th>4</th>\n",
       "      <td>2010</td>\n",
       "      <td>Head</td>\n",
       "      <td>140123</td>\n",
       "    </tr>\n",
       "    <tr>\n",
       "      <th>...</th>\n",
       "      <td>...</td>\n",
       "      <td>...</td>\n",
       "      <td>...</td>\n",
       "    </tr>\n",
       "    <tr>\n",
       "      <th>449</th>\n",
       "      <td>2017</td>\n",
       "      <td>1000 US$</td>\n",
       "      <td>3042</td>\n",
       "    </tr>\n",
       "    <tr>\n",
       "      <th>450</th>\n",
       "      <td>2018</td>\n",
       "      <td>1000 US$</td>\n",
       "      <td>2213</td>\n",
       "    </tr>\n",
       "    <tr>\n",
       "      <th>451</th>\n",
       "      <td>2019</td>\n",
       "      <td>1000 US$</td>\n",
       "      <td>1295</td>\n",
       "    </tr>\n",
       "    <tr>\n",
       "      <th>452</th>\n",
       "      <td>2020</td>\n",
       "      <td>1000 US$</td>\n",
       "      <td>3091</td>\n",
       "    </tr>\n",
       "    <tr>\n",
       "      <th>453</th>\n",
       "      <td>2021</td>\n",
       "      <td>1000 US$</td>\n",
       "      <td>1822</td>\n",
       "    </tr>\n",
       "  </tbody>\n",
       "</table>\n",
       "<p>908 rows × 3 columns</p>\n",
       "</div>"
      ],
      "text/plain": [
       "     Year      Unit   Value\n",
       "0    2006      Head  162288\n",
       "1    2007      Head  144750\n",
       "2    2008      Head  155515\n",
       "3    2009      Head  138672\n",
       "4    2010      Head  140123\n",
       "..    ...       ...     ...\n",
       "449  2017  1000 US$    3042\n",
       "450  2018  1000 US$    2213\n",
       "451  2019  1000 US$    1295\n",
       "452  2020  1000 US$    3091\n",
       "453  2021  1000 US$    1822\n",
       "\n",
       "[908 rows x 3 columns]"
      ]
     },
     "execution_count": 14,
     "metadata": {},
     "output_type": "execute_result"
    }
   ],
   "source": [
    "agriculture_Data.loc[:, ~agriculture_Data.columns.duplicated()]  ##dropping duplicate index columns values"
   ]
  },
  {
   "cell_type": "code",
   "execution_count": 15,
   "id": "6e71eec4",
   "metadata": {},
   "outputs": [
    {
     "data": {
      "text/plain": [
       "False"
      ]
     },
     "execution_count": 15,
     "metadata": {},
     "output_type": "execute_result"
    }
   ],
   "source": [
    "agriculture_Data.index.is_unique"
   ]
  },
  {
   "cell_type": "code",
   "execution_count": 16,
   "id": "a459b051",
   "metadata": {},
   "outputs": [
    {
     "data": {
      "text/plain": [
       "array([False, False, False, False, False, False, False, False, False,\n",
       "       False, False, False, False, False, False, False, False, False,\n",
       "       False, False, False, False, False, False, False, False, False,\n",
       "       False, False, False, False, False, False, False, False, False,\n",
       "       False, False, False, False, False, False, False, False, False,\n",
       "       False, False, False, False, False, False, False, False, False,\n",
       "       False, False, False, False, False, False, False, False, False,\n",
       "       False, False, False, False, False, False, False, False, False,\n",
       "       False, False, False, False, False, False, False, False, False,\n",
       "       False, False, False, False, False, False, False, False, False,\n",
       "       False, False, False, False, False, False, False, False, False,\n",
       "       False, False, False, False, False, False, False, False, False,\n",
       "       False, False, False, False, False, False, False, False, False,\n",
       "       False, False, False, False, False, False, False, False, False,\n",
       "       False, False, False, False, False, False, False, False, False,\n",
       "       False, False, False, False, False, False, False, False, False,\n",
       "       False, False, False, False, False, False, False, False, False,\n",
       "       False, False, False, False, False, False, False, False, False,\n",
       "       False, False, False, False, False, False, False, False, False,\n",
       "       False, False, False, False, False, False, False, False, False,\n",
       "       False, False, False, False, False, False, False, False, False,\n",
       "       False, False, False, False, False, False, False, False, False,\n",
       "       False, False, False, False, False, False, False, False, False,\n",
       "       False, False, False, False, False, False, False, False, False,\n",
       "       False, False, False, False, False, False, False, False, False,\n",
       "       False, False, False, False, False, False, False, False, False,\n",
       "       False, False, False, False, False, False, False, False, False,\n",
       "       False, False, False, False, False, False, False, False, False,\n",
       "       False, False, False, False, False, False, False, False, False,\n",
       "       False, False, False, False, False, False, False, False, False,\n",
       "       False, False, False, False, False, False, False, False, False,\n",
       "       False, False, False, False, False, False, False, False, False,\n",
       "       False, False, False, False, False, False, False, False, False,\n",
       "       False, False, False, False, False, False, False, False, False,\n",
       "       False, False, False, False, False, False, False, False, False,\n",
       "       False, False, False, False, False, False, False, False, False,\n",
       "       False, False, False, False, False, False, False, False, False,\n",
       "       False, False, False, False, False, False, False, False, False,\n",
       "       False, False, False, False, False, False, False, False, False,\n",
       "       False, False, False, False, False, False, False, False, False,\n",
       "       False, False, False, False, False, False, False, False, False,\n",
       "       False, False, False, False, False, False, False, False, False,\n",
       "       False, False, False, False, False, False, False, False, False,\n",
       "       False, False, False, False, False, False, False, False, False,\n",
       "       False, False, False, False, False, False, False, False, False,\n",
       "       False, False, False, False, False, False, False, False, False,\n",
       "       False, False, False, False, False, False, False, False, False,\n",
       "       False, False, False, False, False, False, False, False, False,\n",
       "       False, False, False, False, False, False, False, False, False,\n",
       "       False, False, False, False, False, False, False, False, False,\n",
       "       False, False, False, False,  True,  True,  True,  True,  True,\n",
       "        True,  True,  True,  True,  True,  True,  True,  True,  True,\n",
       "        True,  True,  True,  True,  True,  True,  True,  True,  True,\n",
       "        True,  True,  True,  True,  True,  True,  True,  True,  True,\n",
       "        True,  True,  True,  True,  True,  True,  True,  True,  True,\n",
       "        True,  True,  True,  True,  True,  True,  True,  True,  True,\n",
       "        True,  True,  True,  True,  True,  True,  True,  True,  True,\n",
       "        True,  True,  True,  True,  True,  True,  True,  True,  True,\n",
       "        True,  True,  True,  True,  True,  True,  True,  True,  True,\n",
       "        True,  True,  True,  True,  True,  True,  True,  True,  True,\n",
       "        True,  True,  True,  True,  True,  True,  True,  True,  True,\n",
       "        True,  True,  True,  True,  True,  True,  True,  True,  True,\n",
       "        True,  True,  True,  True,  True,  True,  True,  True,  True,\n",
       "        True,  True,  True,  True,  True,  True,  True,  True,  True,\n",
       "        True,  True,  True,  True,  True,  True,  True,  True,  True,\n",
       "        True,  True,  True,  True,  True,  True,  True,  True,  True,\n",
       "        True,  True,  True,  True,  True,  True,  True,  True,  True,\n",
       "        True,  True,  True,  True,  True,  True,  True,  True,  True,\n",
       "        True,  True,  True,  True,  True,  True,  True,  True,  True,\n",
       "        True,  True,  True,  True,  True,  True,  True,  True,  True,\n",
       "        True,  True,  True,  True,  True,  True,  True,  True,  True,\n",
       "        True,  True,  True,  True,  True,  True,  True,  True,  True,\n",
       "        True,  True,  True,  True,  True,  True,  True,  True,  True,\n",
       "        True,  True,  True,  True,  True,  True,  True,  True,  True,\n",
       "        True,  True,  True,  True,  True,  True,  True,  True,  True,\n",
       "        True,  True,  True,  True,  True,  True,  True,  True,  True,\n",
       "        True,  True,  True,  True,  True,  True,  True,  True,  True,\n",
       "        True,  True,  True,  True,  True,  True,  True,  True,  True,\n",
       "        True,  True,  True,  True,  True,  True,  True,  True,  True,\n",
       "        True,  True,  True,  True,  True,  True,  True,  True,  True,\n",
       "        True,  True,  True,  True,  True,  True,  True,  True,  True,\n",
       "        True,  True,  True,  True,  True,  True,  True,  True,  True,\n",
       "        True,  True,  True,  True,  True,  True,  True,  True,  True,\n",
       "        True,  True,  True,  True,  True,  True,  True,  True,  True,\n",
       "        True,  True,  True,  True,  True,  True,  True,  True,  True,\n",
       "        True,  True,  True,  True,  True,  True,  True,  True,  True,\n",
       "        True,  True,  True,  True,  True,  True,  True,  True,  True,\n",
       "        True,  True,  True,  True,  True,  True,  True,  True,  True,\n",
       "        True,  True,  True,  True,  True,  True,  True,  True,  True,\n",
       "        True,  True,  True,  True,  True,  True,  True,  True,  True,\n",
       "        True,  True,  True,  True,  True,  True,  True,  True,  True,\n",
       "        True,  True,  True,  True,  True,  True,  True,  True,  True,\n",
       "        True,  True,  True,  True,  True,  True,  True,  True,  True,\n",
       "        True,  True,  True,  True,  True,  True,  True,  True,  True,\n",
       "        True,  True,  True,  True,  True,  True,  True,  True,  True,\n",
       "        True,  True,  True,  True,  True,  True,  True,  True,  True,\n",
       "        True,  True,  True,  True,  True,  True,  True,  True,  True,\n",
       "        True,  True,  True,  True,  True,  True,  True,  True,  True,\n",
       "        True,  True,  True,  True,  True,  True,  True,  True,  True,\n",
       "        True,  True,  True,  True,  True,  True,  True,  True,  True,\n",
       "        True,  True,  True,  True,  True,  True,  True,  True])"
      ]
     },
     "execution_count": 16,
     "metadata": {},
     "output_type": "execute_result"
    }
   ],
   "source": [
    "agriculture_Data.index.duplicated()"
   ]
  },
  {
   "cell_type": "code",
   "execution_count": 17,
   "id": "d8f3fc93",
   "metadata": {},
   "outputs": [
    {
     "data": {
      "text/html": [
       "<div>\n",
       "<style scoped>\n",
       "    .dataframe tbody tr th:only-of-type {\n",
       "        vertical-align: middle;\n",
       "    }\n",
       "\n",
       "    .dataframe tbody tr th {\n",
       "        vertical-align: top;\n",
       "    }\n",
       "\n",
       "    .dataframe thead th {\n",
       "        text-align: right;\n",
       "    }\n",
       "</style>\n",
       "<table border=\"1\" class=\"dataframe\">\n",
       "  <thead>\n",
       "    <tr style=\"text-align: right;\">\n",
       "      <th></th>\n",
       "      <th>Year</th>\n",
       "      <th>Unit</th>\n",
       "      <th>Value</th>\n",
       "    </tr>\n",
       "  </thead>\n",
       "  <tbody>\n",
       "    <tr>\n",
       "      <th>0</th>\n",
       "      <td>2006</td>\n",
       "      <td>Head</td>\n",
       "      <td>162288</td>\n",
       "    </tr>\n",
       "    <tr>\n",
       "      <th>1</th>\n",
       "      <td>2007</td>\n",
       "      <td>Head</td>\n",
       "      <td>144750</td>\n",
       "    </tr>\n",
       "    <tr>\n",
       "      <th>2</th>\n",
       "      <td>2008</td>\n",
       "      <td>Head</td>\n",
       "      <td>155515</td>\n",
       "    </tr>\n",
       "    <tr>\n",
       "      <th>3</th>\n",
       "      <td>2009</td>\n",
       "      <td>Head</td>\n",
       "      <td>138672</td>\n",
       "    </tr>\n",
       "    <tr>\n",
       "      <th>4</th>\n",
       "      <td>2010</td>\n",
       "      <td>Head</td>\n",
       "      <td>140123</td>\n",
       "    </tr>\n",
       "    <tr>\n",
       "      <th>...</th>\n",
       "      <td>...</td>\n",
       "      <td>...</td>\n",
       "      <td>...</td>\n",
       "    </tr>\n",
       "    <tr>\n",
       "      <th>449</th>\n",
       "      <td>2017</td>\n",
       "      <td>1000 US$</td>\n",
       "      <td>3042</td>\n",
       "    </tr>\n",
       "    <tr>\n",
       "      <th>450</th>\n",
       "      <td>2018</td>\n",
       "      <td>1000 US$</td>\n",
       "      <td>2213</td>\n",
       "    </tr>\n",
       "    <tr>\n",
       "      <th>451</th>\n",
       "      <td>2019</td>\n",
       "      <td>1000 US$</td>\n",
       "      <td>1295</td>\n",
       "    </tr>\n",
       "    <tr>\n",
       "      <th>452</th>\n",
       "      <td>2020</td>\n",
       "      <td>1000 US$</td>\n",
       "      <td>3091</td>\n",
       "    </tr>\n",
       "    <tr>\n",
       "      <th>453</th>\n",
       "      <td>2021</td>\n",
       "      <td>1000 US$</td>\n",
       "      <td>1822</td>\n",
       "    </tr>\n",
       "  </tbody>\n",
       "</table>\n",
       "<p>454 rows × 3 columns</p>\n",
       "</div>"
      ],
      "text/plain": [
       "     Year      Unit   Value\n",
       "0    2006      Head  162288\n",
       "1    2007      Head  144750\n",
       "2    2008      Head  155515\n",
       "3    2009      Head  138672\n",
       "4    2010      Head  140123\n",
       "..    ...       ...     ...\n",
       "449  2017  1000 US$    3042\n",
       "450  2018  1000 US$    2213\n",
       "451  2019  1000 US$    1295\n",
       "452  2020  1000 US$    3091\n",
       "453  2021  1000 US$    1822\n",
       "\n",
       "[454 rows x 3 columns]"
      ]
     },
     "execution_count": 17,
     "metadata": {},
     "output_type": "execute_result"
    }
   ],
   "source": [
    "agriculture_Data.loc[~agriculture_Data.index.duplicated(), :]  ##drop rows with duplicate index values"
   ]
  },
  {
   "cell_type": "code",
   "execution_count": 18,
   "id": "8744d24f",
   "metadata": {},
   "outputs": [
    {
     "data": {
      "text/html": [
       "<div>\n",
       "<style scoped>\n",
       "    .dataframe tbody tr th:only-of-type {\n",
       "        vertical-align: middle;\n",
       "    }\n",
       "\n",
       "    .dataframe tbody tr th {\n",
       "        vertical-align: top;\n",
       "    }\n",
       "\n",
       "    .dataframe thead th {\n",
       "        text-align: right;\n",
       "    }\n",
       "</style>\n",
       "<table border=\"1\" class=\"dataframe\">\n",
       "  <thead>\n",
       "    <tr style=\"text-align: right;\">\n",
       "      <th></th>\n",
       "      <th>Year</th>\n",
       "      <th>Value</th>\n",
       "    </tr>\n",
       "  </thead>\n",
       "  <tbody>\n",
       "    <tr>\n",
       "      <th>Year</th>\n",
       "      <td>1.00000</td>\n",
       "      <td>0.22511</td>\n",
       "    </tr>\n",
       "    <tr>\n",
       "      <th>Value</th>\n",
       "      <td>0.22511</td>\n",
       "      <td>1.00000</td>\n",
       "    </tr>\n",
       "  </tbody>\n",
       "</table>\n",
       "</div>"
      ],
      "text/plain": [
       "          Year    Value\n",
       "Year   1.00000  0.22511\n",
       "Value  0.22511  1.00000"
      ]
     },
     "execution_count": 18,
     "metadata": {},
     "output_type": "execute_result"
    }
   ],
   "source": [
    "cor = agriculture_Data.corr()\n",
    "cor"
   ]
  },
  {
   "cell_type": "code",
   "execution_count": 19,
   "id": "68018bde",
   "metadata": {},
   "outputs": [
    {
     "data": {
      "text/plain": [
       "<AxesSubplot:>"
      ]
     },
     "execution_count": 19,
     "metadata": {},
     "output_type": "execute_result"
    },
    {
     "data": {
      "image/png": "[encoded data removed]",
      "text/plain": [
       "<Figure size 720x576 with 2 Axes>"
      ]
     },
     "metadata": {
      "needs_background": "light"
     },
     "output_type": "display_data"
    }
   ],
   "source": [
    "plt.figure(figsize=(10,8))\n",
    "sns.heatmap(data = cor, annot = True, cmap=\"YlGnBu\")  ##correlation heatmap"
   ]
  },
  {
   "cell_type": "markdown",
   "id": "68ea38fe",
   "metadata": {},
   "source": [
    "**Shapiro wilk test"
   ]
  },
  {
   "cell_type": "code",
   "execution_count": 20,
   "id": "f13dfc65",
   "metadata": {},
   "outputs": [
    {
     "data": {
      "text/plain": [
       "ShapiroResult(statistic=0.6755138635635376, pvalue=2.0062262595578152e-38)"
      ]
     },
     "execution_count": 20,
     "metadata": {},
     "output_type": "execute_result"
    }
   ],
   "source": [
    "import scipy.stats as stats\n",
    "\n",
    "stats.shapiro(agriculture_Data.Value)   ##EU Value test"
   ]
  },
  {
   "cell_type": "code",
   "execution_count": 21,
   "id": "1bd8cdb3",
   "metadata": {},
   "outputs": [
    {
     "data": {
      "text/plain": [
       "ShapiroResult(statistic=0.9463774561882019, pvalue=1.2453088316700074e-17)"
      ]
     },
     "execution_count": 21,
     "metadata": {},
     "output_type": "execute_result"
    }
   ],
   "source": [
    "import scipy.stats as stats\n",
    "\n",
    "stats.shapiro(agriculture_Data.Year) "
   ]
  },
  {
   "cell_type": "code",
   "execution_count": 22,
   "id": "7b86e79f",
   "metadata": {},
   "outputs": [
    {
     "data": {
      "text/plain": [
       "ShapiroResult(statistic=0.7366018295288086, pvalue=6.844200955719149e-20)"
      ]
     },
     "execution_count": 22,
     "metadata": {},
     "output_type": "execute_result"
    }
   ],
   "source": [
    "import scipy.stats as stats\n",
    "\n",
    "stats.shapiro(ag_IE.Value)  ##Irish Value test"
   ]
  },
  {
   "cell_type": "code",
   "execution_count": 23,
   "id": "9eb7fe56",
   "metadata": {},
   "outputs": [
    {
     "data": {
      "text/plain": [
       "ShapiroResult(statistic=0.9462703466415405, pvalue=4.353688254354893e-08)"
      ]
     },
     "execution_count": 23,
     "metadata": {},
     "output_type": "execute_result"
    }
   ],
   "source": [
    "import scipy.stats as stats\n",
    "\n",
    "stats.shapiro(ag_IE.Year)"
   ]
  },
  {
   "cell_type": "markdown",
   "id": "a046f351",
   "metadata": {},
   "source": [
    "**ONE-WAY ANOVA"
   ]
  },
  {
   "cell_type": "code",
   "execution_count": 24,
   "id": "a1098f00",
   "metadata": {},
   "outputs": [
    {
     "name": "stdout",
     "output_type": "stream",
     "text": [
      "             df        sum_sq       mean_sq          F        PR(>F)\n",
      "Year        1.0  1.612059e+11  1.612059e+11  48.361915  6.782034e-12\n",
      "Residual  906.0  3.019991e+12  3.333324e+09        NaN           NaN\n"
     ]
    }
   ],
   "source": [
    "formula = ols('Value~Year', data = agriculture_Data).fit()    ## ANOVA interaction\n",
    "aov = sm.stats.anova_lm(formula, type=2)\n",
    "print(aov)"
   ]
  },
  {
   "cell_type": "code",
   "execution_count": 25,
   "id": "f9896c5c",
   "metadata": {},
   "outputs": [
    {
     "data": {
      "text/html": [
       "<div>\n",
       "<style scoped>\n",
       "    .dataframe tbody tr th:only-of-type {\n",
       "        vertical-align: middle;\n",
       "    }\n",
       "\n",
       "    .dataframe tbody tr th {\n",
       "        vertical-align: top;\n",
       "    }\n",
       "\n",
       "    .dataframe thead th {\n",
       "        text-align: right;\n",
       "    }\n",
       "</style>\n",
       "<table border=\"1\" class=\"dataframe\">\n",
       "  <thead>\n",
       "    <tr style=\"text-align: right;\">\n",
       "      <th></th>\n",
       "      <th>sum_sq</th>\n",
       "      <th>df</th>\n",
       "      <th>mean_sq</th>\n",
       "      <th>F</th>\n",
       "      <th>PR(&gt;F)</th>\n",
       "      <th>eta_sq</th>\n",
       "      <th>omega_sq</th>\n",
       "    </tr>\n",
       "  </thead>\n",
       "  <tbody>\n",
       "    <tr>\n",
       "      <th>Year</th>\n",
       "      <td>1.612059e+11</td>\n",
       "      <td>1.0</td>\n",
       "      <td>1.612059e+11</td>\n",
       "      <td>48.361915</td>\n",
       "      <td>6.782034e-12</td>\n",
       "      <td>0.050675</td>\n",
       "      <td>0.049575</td>\n",
       "    </tr>\n",
       "    <tr>\n",
       "      <th>Residual</th>\n",
       "      <td>3.019991e+12</td>\n",
       "      <td>906.0</td>\n",
       "      <td>3.333324e+09</td>\n",
       "      <td>NaN</td>\n",
       "      <td>NaN</td>\n",
       "      <td>NaN</td>\n",
       "      <td>NaN</td>\n",
       "    </tr>\n",
       "  </tbody>\n",
       "</table>\n",
       "</div>"
      ],
      "text/plain": [
       "                sum_sq     df       mean_sq          F        PR(>F)  \\\n",
       "Year      1.612059e+11    1.0  1.612059e+11  48.361915  6.782034e-12   \n",
       "Residual  3.019991e+12  906.0  3.333324e+09        NaN           NaN   \n",
       "\n",
       "            eta_sq  omega_sq  \n",
       "Year      0.050675  0.049575  \n",
       "Residual       NaN       NaN  "
      ]
     },
     "execution_count": 25,
     "metadata": {},
     "output_type": "execute_result"
    }
   ],
   "source": [
    "def anova_table(aov):\n",
    "    aov['mean_sq'] = aov[:]['sum_sq']/aov[:]['df']\n",
    "\n",
    "    aov['eta_sq'] = aov[:-1]['sum_sq']/sum(aov['sum_sq'])\n",
    "\n",
    "    aov['omega_sq'] = (aov[:-1]['sum_sq']-(aov[:-1]['df']*aov['mean_sq'][-1]))/(sum(aov['sum_sq'])+aov['mean_sq'][-1])\n",
    "\n",
    "    cols = ['sum_sq', 'df', 'mean_sq', 'F', 'PR(>F)', 'eta_sq', 'omega_sq']\n",
    "    aov = aov[cols]\n",
    "    return aov\n",
    "\n",
    "anova_table(aov)      ##generating an ANOVA table "
   ]
  },
  {
   "cell_type": "code",
   "execution_count": 26,
   "id": "e6522f36",
   "metadata": {},
   "outputs": [
    {
     "name": "stdout",
     "output_type": "stream",
     "text": [
      "36333.70484581498\n",
      "2012.9603524229076\n",
      "3879.0\n",
      "2013.0\n",
      "59223.1704673793\n",
      "4.550170246184921\n"
     ]
    }
   ],
   "source": [
    "averageValue = agriculture_Data['Value'].mean()    ##performing descriptive statistics\n",
    "print(averageValue)\n",
    "\n",
    "averageYear = agriculture_Data['Year'].mean()\n",
    "print(averageYear)\n",
    "\n",
    "medianValue = agriculture_Data['Value'].median()\n",
    "print(medianValue)\n",
    "\n",
    "medianYear = agriculture_Data['Year'].median()\n",
    "print(medianYear)\n",
    "\n",
    "standard_deviationValue = agriculture_Data['Value'].std()    \n",
    "print(standard_deviationValue)\n",
    "\n",
    "standard_deviationYear = agriculture_Data['Year'].std()\n",
    "print(standard_deviationYear)"
   ]
  },
  {
   "cell_type": "code",
   "execution_count": 27,
   "id": "b927d612",
   "metadata": {},
   "outputs": [
    {
     "data": {
      "text/plain": [
       "True"
      ]
     },
     "execution_count": 27,
     "metadata": {},
     "output_type": "execute_result"
    }
   ],
   "source": [
    "ag_IE.columns.is_unique"
   ]
  },
  {
   "cell_type": "code",
   "execution_count": 28,
   "id": "13ce49b2",
   "metadata": {},
   "outputs": [
    {
     "data": {
      "text/plain": [
       "array([False, False, False])"
      ]
     },
     "execution_count": 28,
     "metadata": {},
     "output_type": "execute_result"
    }
   ],
   "source": [
    "ag_IE.columns.duplicated()"
   ]
  },
  {
   "cell_type": "code",
   "execution_count": 29,
   "id": "baba4b9b",
   "metadata": {},
   "outputs": [
    {
     "data": {
      "text/html": [
       "<div>\n",
       "<style scoped>\n",
       "    .dataframe tbody tr th:only-of-type {\n",
       "        vertical-align: middle;\n",
       "    }\n",
       "\n",
       "    .dataframe tbody tr th {\n",
       "        vertical-align: top;\n",
       "    }\n",
       "\n",
       "    .dataframe thead th {\n",
       "        text-align: right;\n",
       "    }\n",
       "</style>\n",
       "<table border=\"1\" class=\"dataframe\">\n",
       "  <thead>\n",
       "    <tr style=\"text-align: right;\">\n",
       "      <th></th>\n",
       "      <th>Year</th>\n",
       "      <th>Unit</th>\n",
       "      <th>Value</th>\n",
       "    </tr>\n",
       "  </thead>\n",
       "  <tbody>\n",
       "    <tr>\n",
       "      <th>156</th>\n",
       "      <td>2006</td>\n",
       "      <td>Head</td>\n",
       "      <td>372</td>\n",
       "    </tr>\n",
       "    <tr>\n",
       "      <th>157</th>\n",
       "      <td>2007</td>\n",
       "      <td>Head</td>\n",
       "      <td>767</td>\n",
       "    </tr>\n",
       "    <tr>\n",
       "      <th>158</th>\n",
       "      <td>2008</td>\n",
       "      <td>Head</td>\n",
       "      <td>90</td>\n",
       "    </tr>\n",
       "    <tr>\n",
       "      <th>159</th>\n",
       "      <td>2009</td>\n",
       "      <td>Head</td>\n",
       "      <td>38</td>\n",
       "    </tr>\n",
       "    <tr>\n",
       "      <th>160</th>\n",
       "      <td>2010</td>\n",
       "      <td>Head</td>\n",
       "      <td>98</td>\n",
       "    </tr>\n",
       "    <tr>\n",
       "      <th>...</th>\n",
       "      <td>...</td>\n",
       "      <td>...</td>\n",
       "      <td>...</td>\n",
       "    </tr>\n",
       "    <tr>\n",
       "      <th>449</th>\n",
       "      <td>2017</td>\n",
       "      <td>1000 US$</td>\n",
       "      <td>3042</td>\n",
       "    </tr>\n",
       "    <tr>\n",
       "      <th>450</th>\n",
       "      <td>2018</td>\n",
       "      <td>1000 US$</td>\n",
       "      <td>2213</td>\n",
       "    </tr>\n",
       "    <tr>\n",
       "      <th>451</th>\n",
       "      <td>2019</td>\n",
       "      <td>1000 US$</td>\n",
       "      <td>1295</td>\n",
       "    </tr>\n",
       "    <tr>\n",
       "      <th>452</th>\n",
       "      <td>2020</td>\n",
       "      <td>1000 US$</td>\n",
       "      <td>3091</td>\n",
       "    </tr>\n",
       "    <tr>\n",
       "      <th>453</th>\n",
       "      <td>2021</td>\n",
       "      <td>1000 US$</td>\n",
       "      <td>1822</td>\n",
       "    </tr>\n",
       "  </tbody>\n",
       "</table>\n",
       "<p>128 rows × 3 columns</p>\n",
       "</div>"
      ],
      "text/plain": [
       "     Year      Unit  Value\n",
       "156  2006      Head    372\n",
       "157  2007      Head    767\n",
       "158  2008      Head     90\n",
       "159  2009      Head     38\n",
       "160  2010      Head     98\n",
       "..    ...       ...    ...\n",
       "449  2017  1000 US$   3042\n",
       "450  2018  1000 US$   2213\n",
       "451  2019  1000 US$   1295\n",
       "452  2020  1000 US$   3091\n",
       "453  2021  1000 US$   1822\n",
       "\n",
       "[128 rows x 3 columns]"
      ]
     },
     "execution_count": 29,
     "metadata": {},
     "output_type": "execute_result"
    }
   ],
   "source": [
    "ag_IE.loc[~ag_IE.index.duplicated(), :]  ##drop rows with duplicate index values"
   ]
  },
  {
   "cell_type": "code",
   "execution_count": 30,
   "id": "0a1f078d",
   "metadata": {},
   "outputs": [
    {
     "data": {
      "text/html": [
       "<div>\n",
       "<style scoped>\n",
       "    .dataframe tbody tr th:only-of-type {\n",
       "        vertical-align: middle;\n",
       "    }\n",
       "\n",
       "    .dataframe tbody tr th {\n",
       "        vertical-align: top;\n",
       "    }\n",
       "\n",
       "    .dataframe thead th {\n",
       "        text-align: right;\n",
       "    }\n",
       "</style>\n",
       "<table border=\"1\" class=\"dataframe\">\n",
       "  <thead>\n",
       "    <tr style=\"text-align: right;\">\n",
       "      <th></th>\n",
       "      <th>Year</th>\n",
       "      <th>Value</th>\n",
       "    </tr>\n",
       "  </thead>\n",
       "  <tbody>\n",
       "    <tr>\n",
       "      <th>Year</th>\n",
       "      <td>1.000000</td>\n",
       "      <td>0.079785</td>\n",
       "    </tr>\n",
       "    <tr>\n",
       "      <th>Value</th>\n",
       "      <td>0.079785</td>\n",
       "      <td>1.000000</td>\n",
       "    </tr>\n",
       "  </tbody>\n",
       "</table>\n",
       "</div>"
      ],
      "text/plain": [
       "           Year     Value\n",
       "Year   1.000000  0.079785\n",
       "Value  0.079785  1.000000"
      ]
     },
     "execution_count": 30,
     "metadata": {},
     "output_type": "execute_result"
    }
   ],
   "source": [
    "cor = ag_IE.corr()\n",
    "cor"
   ]
  },
  {
   "cell_type": "code",
   "execution_count": 31,
   "id": "680d48d2",
   "metadata": {},
   "outputs": [
    {
     "data": {
      "text/plain": [
       "<AxesSubplot:>"
      ]
     },
     "execution_count": 31,
     "metadata": {},
     "output_type": "execute_result"
    },
    {
     "data": {
      "image/png": "[encoded data removed]",
      "text/plain": [
       "<Figure size 720x576 with 2 Axes>"
      ]
     },
     "metadata": {
      "needs_background": "light"
     },
     "output_type": "display_data"
    }
   ],
   "source": [
    "plt.figure(figsize=(10,8))\n",
    "sns.heatmap(data = cor, annot = True, cmap=\"YlGnBu\")  ##correlation heatmap"
   ]
  },
  {
   "cell_type": "code",
   "execution_count": 32,
   "id": "696eafe9",
   "metadata": {
    "scrolled": true
   },
   "outputs": [
    {
     "name": "stdout",
     "output_type": "stream",
     "text": [
      "             df        sum_sq       mean_sq         F    PR(>F)\n",
      "Year        1.0  1.028662e+10  1.028662e+10  1.627213  0.203254\n",
      "Residual  254.0  1.605691e+12  6.321616e+09       NaN       NaN\n"
     ]
    }
   ],
   "source": [
    "formula = ols('Value~Year', data = ag_IE).fit()    ## ANOVA interaction - IE\n",
    "aov = sm.stats.anova_lm(formula, type=2)\n",
    "print(aov)"
   ]
  },
  {
   "cell_type": "code",
   "execution_count": 33,
   "id": "0280d0a6",
   "metadata": {},
   "outputs": [
    {
     "data": {
      "text/html": [
       "<div>\n",
       "<style scoped>\n",
       "    .dataframe tbody tr th:only-of-type {\n",
       "        vertical-align: middle;\n",
       "    }\n",
       "\n",
       "    .dataframe tbody tr th {\n",
       "        vertical-align: top;\n",
       "    }\n",
       "\n",
       "    .dataframe thead th {\n",
       "        text-align: right;\n",
       "    }\n",
       "</style>\n",
       "<table border=\"1\" class=\"dataframe\">\n",
       "  <thead>\n",
       "    <tr style=\"text-align: right;\">\n",
       "      <th></th>\n",
       "      <th>sum_sq</th>\n",
       "      <th>df</th>\n",
       "      <th>mean_sq</th>\n",
       "      <th>F</th>\n",
       "      <th>PR(&gt;F)</th>\n",
       "      <th>eta_sq</th>\n",
       "      <th>omega_sq</th>\n",
       "    </tr>\n",
       "  </thead>\n",
       "  <tbody>\n",
       "    <tr>\n",
       "      <th>Year</th>\n",
       "      <td>1.028662e+10</td>\n",
       "      <td>1.0</td>\n",
       "      <td>1.028662e+10</td>\n",
       "      <td>1.627213</td>\n",
       "      <td>0.203254</td>\n",
       "      <td>0.006366</td>\n",
       "      <td>0.002444</td>\n",
       "    </tr>\n",
       "    <tr>\n",
       "      <th>Residual</th>\n",
       "      <td>1.605691e+12</td>\n",
       "      <td>254.0</td>\n",
       "      <td>6.321616e+09</td>\n",
       "      <td>NaN</td>\n",
       "      <td>NaN</td>\n",
       "      <td>NaN</td>\n",
       "      <td>NaN</td>\n",
       "    </tr>\n",
       "  </tbody>\n",
       "</table>\n",
       "</div>"
      ],
      "text/plain": [
       "                sum_sq     df       mean_sq         F    PR(>F)    eta_sq  \\\n",
       "Year      1.028662e+10    1.0  1.028662e+10  1.627213  0.203254  0.006366   \n",
       "Residual  1.605691e+12  254.0  6.321616e+09       NaN       NaN       NaN   \n",
       "\n",
       "          omega_sq  \n",
       "Year      0.002444  \n",
       "Residual       NaN  "
      ]
     },
     "execution_count": 33,
     "metadata": {},
     "output_type": "execute_result"
    }
   ],
   "source": [
    "def anova_table_IE(aov):\n",
    "    aov['mean_sq'] = aov[:]['sum_sq']/aov[:]['df']\n",
    "\n",
    "    aov['eta_sq'] = aov[:-1]['sum_sq']/sum(aov['sum_sq'])\n",
    "\n",
    "    aov['omega_sq'] = (aov[:-1]['sum_sq']-(aov[:-1]['df']*aov['mean_sq'][-1]))/(sum(aov['sum_sq'])+aov['mean_sq'][-1])\n",
    "\n",
    "    cols = ['sum_sq', 'df', 'mean_sq', 'F', 'PR(>F)', 'eta_sq', 'omega_sq']\n",
    "    aov = aov[cols]\n",
    "    return aov\n",
    "\n",
    "anova_table_IE(aov)      ##generating the Irish ANOVA table"
   ]
  },
  {
   "cell_type": "code",
   "execution_count": 34,
   "id": "4ba5e3db",
   "metadata": {},
   "outputs": [],
   "source": [
    "from scipy.stats import levene      ## Homogeinity of variance: Levene's test\n",
    "quantity_Data = pd.read_csv(\"quantity_Data.csv\")"
   ]
  },
  {
   "cell_type": "code",
   "execution_count": 35,
   "id": "0e2c9d8f",
   "metadata": {},
   "outputs": [],
   "source": [
    "quantity_Data = quantity_Data.iloc[:,0:]  ##dropping first two columns from the dataset"
   ]
  },
  {
   "cell_type": "code",
   "execution_count": 36,
   "id": "a21ed79e",
   "metadata": {},
   "outputs": [],
   "source": [
    "quantity_Data = quantity_Data.drop(columns = ['Element', 'Item', 'Unit', 'Flag Description', 'Country Code'])  ##dropping further columns"
   ]
  },
  {
   "cell_type": "code",
   "execution_count": 37,
   "id": "9fda1dfb",
   "metadata": {},
   "outputs": [
    {
     "data": {
      "text/plain": [
       "Croatia    128\n",
       "Ireland    128\n",
       "Denmark    110\n",
       "Finland     88\n",
       "Name: Area, dtype: int64"
      ]
     },
     "execution_count": 37,
     "metadata": {},
     "output_type": "execute_result"
    }
   ],
   "source": [
    "quantity_Data['Area'].value_counts()"
   ]
  },
  {
   "cell_type": "code",
   "execution_count": 38,
   "id": "834405a5",
   "metadata": {},
   "outputs": [],
   "source": [
    "croatia = quantity_Data.Value[quantity_Data.Area == \"Croatia\"]"
   ]
  },
  {
   "cell_type": "code",
   "execution_count": 39,
   "id": "9f85d516",
   "metadata": {},
   "outputs": [],
   "source": [
    "ireland = quantity_Data.Value[quantity_Data.Area == \"Ireland\"]"
   ]
  },
  {
   "cell_type": "code",
   "execution_count": 40,
   "id": "e0ee5713",
   "metadata": {},
   "outputs": [],
   "source": [
    "denmark = quantity_Data.Value[quantity_Data.Area == \"Denmark\"]"
   ]
  },
  {
   "cell_type": "code",
   "execution_count": 41,
   "id": "7ec8fcc8",
   "metadata": {},
   "outputs": [],
   "source": [
    "finland = quantity_Data.Value[quantity_Data.Area == \"Finland\"]"
   ]
  },
  {
   "cell_type": "code",
   "execution_count": 42,
   "id": "e2531fe5",
   "metadata": {},
   "outputs": [
    {
     "data": {
      "text/plain": [
       "56605.358560599656"
      ]
     },
     "execution_count": 42,
     "metadata": {},
     "output_type": "execute_result"
    }
   ],
   "source": [
    "sd1 = croatia.std()\n",
    "sd1"
   ]
  },
  {
   "cell_type": "code",
   "execution_count": 43,
   "id": "a62958cd",
   "metadata": {},
   "outputs": [
    {
     "data": {
      "text/plain": [
       "79762.86655325936"
      ]
     },
     "execution_count": 43,
     "metadata": {},
     "output_type": "execute_result"
    }
   ],
   "source": [
    "sd2 = ireland.std()\n",
    "sd2"
   ]
  },
  {
   "cell_type": "code",
   "execution_count": 44,
   "id": "23a3189d",
   "metadata": {},
   "outputs": [
    {
     "data": {
      "text/plain": [
       "30155.12446886562"
      ]
     },
     "execution_count": 44,
     "metadata": {},
     "output_type": "execute_result"
    }
   ],
   "source": [
    "sd3 = denmark.std()\n",
    "sd3"
   ]
  },
  {
   "cell_type": "code",
   "execution_count": 45,
   "id": "d7985929",
   "metadata": {},
   "outputs": [
    {
     "data": {
      "text/plain": [
       "807.158881933681"
      ]
     },
     "execution_count": 45,
     "metadata": {},
     "output_type": "execute_result"
    }
   ],
   "source": [
    "sd4 = finland.std()\n",
    "sd4"
   ]
  },
  {
   "cell_type": "markdown",
   "id": "15bf5d5d",
   "metadata": {},
   "source": [
    "**T-Test"
   ]
  },
  {
   "cell_type": "code",
   "execution_count": 46,
   "id": "79bc31d1",
   "metadata": {},
   "outputs": [],
   "source": [
    "# Importing libraries\n",
    "import numpy as np\n",
    "import matplotlib.pyplot as plt\n",
    "import pandas as pd\n",
    "import scipy.stats as stats\n",
    "from statsmodels.stats import weightstats"
   ]
  },
  {
   "cell_type": "code",
   "execution_count": 47,
   "id": "aaa09f0f",
   "metadata": {},
   "outputs": [],
   "source": [
    "value_Data = pd.read_csv(\"value_Data.csv\")"
   ]
  },
  {
   "cell_type": "code",
   "execution_count": 48,
   "id": "c404113b",
   "metadata": {},
   "outputs": [],
   "source": [
    "value_Data = value_Data.iloc[:,0:]  ##dropping first two columns from the dataset"
   ]
  },
  {
   "cell_type": "code",
   "execution_count": 49,
   "id": "3e9b8d2e",
   "metadata": {},
   "outputs": [],
   "source": [
    "value_Data = value_Data.drop(columns = ['Element', 'Item', 'Unit', 'Flag Description', 'Country Code'])  ##dropping further columns"
   ]
  },
  {
   "cell_type": "code",
   "execution_count": 50,
   "id": "5069ff07",
   "metadata": {},
   "outputs": [
    {
     "data": {
      "text/plain": [
       "0      162288\n",
       "1      144750\n",
       "2      155515\n",
       "3      138672\n",
       "4      140123\n",
       "        ...  \n",
       "449      3042\n",
       "450      2213\n",
       "451      1295\n",
       "452      3091\n",
       "453      1822\n",
       "Name: Value, Length: 454, dtype: int64"
      ]
     },
     "execution_count": 50,
     "metadata": {},
     "output_type": "execute_result"
    }
   ],
   "source": [
    "X = value_Data['Value']; X"
   ]
  },
  {
   "cell_type": "code",
   "execution_count": 51,
   "id": "b17b8b14",
   "metadata": {},
   "outputs": [
    {
     "data": {
      "text/plain": [
       "Ttest_1sampResult(statistic=2.2774798832281187, pvalue=0.023222824674809982)"
      ]
     },
     "execution_count": 51,
     "metadata": {},
     "output_type": "execute_result"
    }
   ],
   "source": [
    "stats.ttest_1samp(X,30000)   ##reject H0, accept H1"
   ]
  },
  {
   "cell_type": "code",
   "execution_count": 52,
   "id": "51bbe1a0",
   "metadata": {},
   "outputs": [
    {
     "data": {
      "text/plain": [
       "0.0"
      ]
     },
     "execution_count": 52,
     "metadata": {},
     "output_type": "execute_result"
    }
   ],
   "source": [
    "stats.t.sf(30000, 453)  ##H1 : u > 30000"
   ]
  }
 ],
 "metadata": {
  "kernelspec": {
   "display_name": "Python 3 (ipykernel)",
   "language": "python",
   "name": "python3"
  },
  "language_info": {
   "codemirror_mode": {
    "name": "ipython",
    "version": 3
   },
   "file_extension": ".py",
   "mimetype": "text/x-python",
   "name": "python",
   "nbconvert_exporter": "python",
   "pygments_lexer": "ipython3",
   "version": "3.9.12"
  }
 },
 "nbformat": 4,
 "nbformat_minor": 5
}
