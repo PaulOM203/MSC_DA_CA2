{
 "cells": [
  {
   "cell_type": "code",
   "execution_count": 5,
   "id": "63d5d69f",
   "metadata": {},
   "outputs": [
    {
     "ename": "KeyError",
     "evalue": "'QFYvRqbGk7lIzPhz6ogOGPXIC'",
     "output_type": "error",
     "traceback": [
      "\u001b[1;31m---------------------------------------------------------------------------\u001b[0m",
      "\u001b[1;31mKeyError\u001b[0m                                  Traceback (most recent call last)",
      "Input \u001b[1;32mIn [5]\u001b[0m, in \u001b[0;36m<cell line: 4>\u001b[1;34m()\u001b[0m\n\u001b[0;32m      1\u001b[0m \u001b[38;5;28;01mimport\u001b[39;00m \u001b[38;5;21;01mtweepy\u001b[39;00m\n\u001b[0;32m      2\u001b[0m \u001b[38;5;28;01mimport\u001b[39;00m \u001b[38;5;21;01mos\u001b[39;00m\n\u001b[1;32m----> 4\u001b[0m consumer_key \u001b[38;5;241m=\u001b[39m \u001b[43mos\u001b[49m\u001b[38;5;241;43m.\u001b[39;49m\u001b[43menviron\u001b[49m\u001b[43m[\u001b[49m\u001b[38;5;124;43m'\u001b[39;49m\u001b[38;5;124;43mQFYvRqbGk7lIzPhz6ogOGPXIC\u001b[39;49m\u001b[38;5;124;43m'\u001b[39;49m\u001b[43m]\u001b[49m\n\u001b[0;32m      5\u001b[0m consumer_secret \u001b[38;5;241m=\u001b[39m os\u001b[38;5;241m.\u001b[39menviron[\u001b[38;5;124m'\u001b[39m\u001b[38;5;124mtBawjRIk0wbElquMhncdvTVkDaRyvu0b7lu51cwBBppV0il1P5\u001b[39m\u001b[38;5;124m'\u001b[39m]\n\u001b[0;32m      6\u001b[0m consumer_token \u001b[38;5;241m=\u001b[39m os\u001b[38;5;241m.\u001b[39menviron[\u001b[38;5;124m'\u001b[39m\u001b[38;5;124mAAAAAAAAAAAAAAAAAAAAADg6lAEAAAAAJ15yNl701isfu8Mzq5Wd7Wv4NuU\u001b[39m\u001b[38;5;124m%\u001b[39m\u001b[38;5;124m3D2FvkEtCPihsjlM4EhmqTWkYV4y6KUSXxTUdfL9wQtPJLxR9x62\u001b[39m\u001b[38;5;124m'\u001b[39m]\n",
      "File \u001b[1;32mC:\\ProgramData\\Anaconda3\\lib\\os.py:679\u001b[0m, in \u001b[0;36m_Environ.__getitem__\u001b[1;34m(self, key)\u001b[0m\n\u001b[0;32m    676\u001b[0m     value \u001b[38;5;241m=\u001b[39m \u001b[38;5;28mself\u001b[39m\u001b[38;5;241m.\u001b[39m_data[\u001b[38;5;28mself\u001b[39m\u001b[38;5;241m.\u001b[39mencodekey(key)]\n\u001b[0;32m    677\u001b[0m \u001b[38;5;28;01mexcept\u001b[39;00m \u001b[38;5;167;01mKeyError\u001b[39;00m:\n\u001b[0;32m    678\u001b[0m     \u001b[38;5;66;03m# raise KeyError with the original key value\u001b[39;00m\n\u001b[1;32m--> 679\u001b[0m     \u001b[38;5;28;01mraise\u001b[39;00m \u001b[38;5;167;01mKeyError\u001b[39;00m(key) \u001b[38;5;28;01mfrom\u001b[39;00m \u001b[38;5;28mNone\u001b[39m\n\u001b[0;32m    680\u001b[0m \u001b[38;5;28;01mreturn\u001b[39;00m \u001b[38;5;28mself\u001b[39m\u001b[38;5;241m.\u001b[39mdecodevalue(value)\n",
      "\u001b[1;31mKeyError\u001b[0m: 'QFYvRqbGk7lIzPhz6ogOGPXIC'"
     ]
    }
   ],
   "source": [
    "import tweepy\n",
    "import os\n",
    "\n",
    "consumer_key = os.environ['QFYvRqbGk7lIzPhz6ogOGPXIC']\n",
    "consumer_secret = os.environ['tBawjRIk0wbElquMhncdvTVkDaRyvu0b7lu51cwBBppV0il1P5']\n",
    "consumer_token = os.environ['AAAAAAAAAAAAAAAAAAAAADg6lAEAAAAAJ15yNl701isfu8Mzq5Wd7Wv4NuU%3D2FvkEtCPihsjlM4EhmqTWkYV4y6KUSXxTUdfL9wQtPJLxR9x62']\n",
    "\n",
    "\n",
    "auth = tweepy.AppAuthHandler(consumer_key, consumer_secret, consumer_token)\n",
    "api = tweepy.API(auth)"
   ]
  },
  {
   "cell_type": "code",
   "execution_count": 4,
   "id": "c900f4fe",
   "metadata": {},
   "outputs": [
    {
     "name": "stdout",
     "output_type": "stream",
     "text": [
      "Status Failed On, 400 Bad Request\n",
      "215 - Bad Authentication data.\n"
     ]
    }
   ],
   "source": [
    "import tweepy\n",
    "\n",
    "api_key = \"QFYvRqbGk7lIzPhz6ogOGPXIC\"  \n",
    "api_secret = \"tBawjRIk0wbElquMhncdvTVkDaRyvu0b7lu51cwBBppV0il1P5\" \n",
    "bearer_token = \"AAAAAAAAAAAAAAAAAAAAADg6lAEAAAAAJ15yNl701isfu8Mzq5Wd7Wv4NuU%3D2FvkEtCPihsjlM4EhmqTWkYV4y6KUSXxTUdfL9wQtPJLxR9x62\"\n",
    "\n",
    "#Pass in our twitter API authentication key\n",
    "auth = tweepy.OAuth1UserHandler(\n",
    "    api_key, api_secret,\n",
    "    bearer_token\n",
    ")\n",
    "\n",
    "#Instantiate the tweepy API\n",
    "api = tweepy.API(auth, wait_on_rate_limit=True)\n",
    "\n",
    "\n",
    "search_query = \"EU agriculture\"\n",
    "no_of_tweets =50\n",
    "\n",
    "\n",
    "try:\n",
    "    #The number of tweets we want to retrieved from the user\n",
    "    tweets = api.search_tweets(q=search_query, count=no_of_tweets)\n",
    "    \n",
    "    #Pulling Some attributes from the tweet\n",
    "    attributes_container = [[tweet.user.name, tweet.created_at, tweet.favorite_count,tweet.source,  tweet.text] for tweet in tweets]\n",
    "\n",
    "    #Creation of column list to rename the columns in the dataframe\n",
    "    columns = [\"User\", \"Date Created\", \"Number of Likes\", \"Source of Tweet\", \"Tweet\"]\n",
    "    \n",
    "    #Creation of Dataframe\n",
    "    tweets_df = pd.DataFrame(attributes_container, columns=columns)\n",
    "except BaseException as e:\n",
    "    print('Status Failed On,',str(e))"
   ]
  },
  {
   "cell_type": "code",
   "execution_count": null,
   "id": "ee762c16",
   "metadata": {},
   "outputs": [],
   "source": []
  }
 ],
 "metadata": {
  "kernelspec": {
   "display_name": "Python 3 (ipykernel)",
   "language": "python",
   "name": "python3"
  },
  "language_info": {
   "codemirror_mode": {
    "name": "ipython",
    "version": 3
   },
   "file_extension": ".py",
   "mimetype": "text/x-python",
   "name": "python",
   "nbconvert_exporter": "python",
   "pygments_lexer": "ipython3",
   "version": "3.9.12"
  }
 },
 "nbformat": 4,
 "nbformat_minor": 5
}
